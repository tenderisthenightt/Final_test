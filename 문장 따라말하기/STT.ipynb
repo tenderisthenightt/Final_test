{
 "cells": [
  {
   "attachments": {},
   "cell_type": "markdown",
   "metadata": {},
   "source": [
    "### STT 카카오 OpenAPI 참교 사이트\n",
    "- https://ai-creator.tistory.com/70?category=759437\n",
    "- 1일 무료 허용량 \n",
    "- 음성인식 20,000건\n",
    "- 음성 인식(REST API) 5,400초"
   ]
  },
  {
   "cell_type": "code",
   "execution_count": 1,
   "metadata": {},
   "outputs": [],
   "source": [
    "import urllib3\n",
    "import json\n",
    "import base64\n",
    "import requests"
   ]
  },
  {
   "cell_type": "code",
   "execution_count": 3,
   "metadata": {},
   "outputs": [
    {
     "name": "stdout",
     "output_type": "stream",
     "text": [
      "[responseCode] 200\n",
      "[responBody]\n",
      "===== 결과 확인 ====\n",
      "['{', 'result', ':0,', 'return_type', ':', 'com.google.gson.internal.LinkedTreeMap', ',', 'return_object', ':{', 'recognized', ':', '안녕하세요. 오늘도 멋진 하루 되세요.', '}}']\n"
     ]
    }
   ],
   "source": [
    "# 1일 무료 허용량 \n",
    " #-*- coding:utf-8 -*-\n",
    "\n",
    "openApiURL = \"http://aiopen.etri.re.kr:8000/WiseASR/Recognition\"\n",
    "accessKey = \"b4b296d2-da29-42e6-ab19-858685f178f4\" \n",
    "audioFilePath = \"C:/Users/admin/Desktop/최종 프로젝트/Model/STT/hello.wav\"\n",
    "languageCode = \"korean\"\n",
    "   \n",
    "file = open(audioFilePath, \"rb\")\n",
    "audioContents = base64.b64encode(file.read()).decode(\"utf8\")\n",
    "file.close()\n",
    "   \n",
    "requestJson = {    \n",
    "    \"argument\": {\n",
    "        \"language_code\": languageCode,\n",
    "        \"audio\": audioContents\n",
    "    }\n",
    "}\n",
    "   \n",
    "http = urllib3.PoolManager()\n",
    "response = http.request(\n",
    "  \"POST\",\n",
    "    openApiURL,\n",
    "    headers={\"Content-Type\": \"application/json; charset=UTF-8\",\"Authorization\": accessKey},\n",
    "    body=json.dumps(requestJson)\n",
    ")\n",
    "   \n",
    "print(\"[responseCode] \" + str(response.status))\n",
    "print(\"[responBody]\")\n",
    "print(\"===== 결과 확인 ====\")\n",
    "\n",
    "string = str(response.data,\"utf-8\")\n",
    "List = string.split('\"')\n",
    "print(List)\n"
   ]
  },
  {
   "cell_type": "code",
   "execution_count": 4,
   "metadata": {},
   "outputs": [
    {
     "name": "stdout",
     "output_type": "stream",
     "text": [
      "안녕하세요. 오늘도 멋진 하루 되세요\n"
     ]
    }
   ],
   "source": [
    "target = List[-2]\n",
    "target = target[:-1]\n",
    "print(target)"
   ]
  },
  {
   "cell_type": "code",
   "execution_count": 5,
   "metadata": {},
   "outputs": [],
   "source": [
    "dic = {'1' : \"안녕하세요. 오늘도 멋진 하루 되세요\"}"
   ]
  },
  {
   "cell_type": "code",
   "execution_count": 6,
   "metadata": {},
   "outputs": [
    {
     "name": "stdout",
     "output_type": "stream",
     "text": [
      "정답입니다\n"
     ]
    }
   ],
   "source": [
    "if target == dic['1'] :\n",
    "    print('정답입니다')\n",
    "else:\n",
    "    print('틀렸습니다')"
   ]
  }
 ],
 "metadata": {
  "kernelspec": {
   "display_name": "base",
   "language": "python",
   "name": "python3"
  },
  "language_info": {
   "codemirror_mode": {
    "name": "ipython",
    "version": 3
   },
   "file_extension": ".py",
   "mimetype": "text/x-python",
   "name": "python",
   "nbconvert_exporter": "python",
   "pygments_lexer": "ipython3",
   "version": "3.9.7 (default, Sep 16 2021, 16:59:28) [MSC v.1916 64 bit (AMD64)]"
  },
  "orig_nbformat": 4,
  "vscode": {
   "interpreter": {
    "hash": "e4cce46d6be9934fbd27f9ca0432556941ea5bdf741d4f4d64c6cd7f8dfa8fba"
   }
  }
 },
 "nbformat": 4,
 "nbformat_minor": 2
}
