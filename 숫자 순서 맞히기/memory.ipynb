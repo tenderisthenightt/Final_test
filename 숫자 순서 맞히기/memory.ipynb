{
 "cells": [
  {
   "cell_type": "code",
   "execution_count": 1,
   "id": "1fa14848",
   "metadata": {
    "ExecuteTime": {
     "end_time": "2023-01-17T03:10:01.122814Z",
     "start_time": "2023-01-17T03:10:00.950919Z"
    }
   },
   "outputs": [
    {
     "name": "stdout",
     "output_type": "stream",
     "text": [
      "pygame 2.1.2 (SDL 2.0.18, Python 3.9.7)\n",
      "Hello from the pygame community. https://www.pygame.org/contribute.html\n"
     ]
    }
   ],
   "source": [
    "import pygame"
   ]
  },
  {
   "cell_type": "code",
   "execution_count": 2,
   "id": "75afbc71",
   "metadata": {
    "ExecuteTime": {
     "end_time": "2023-01-17T03:10:01.138315Z",
     "start_time": "2023-01-17T03:10:01.124757Z"
    }
   },
   "outputs": [],
   "source": [
    "from random import *"
   ]
  },
  {
   "cell_type": "code",
   "execution_count": 3,
   "id": "12c1bf48",
   "metadata": {
    "ExecuteTime": {
     "end_time": "2023-01-17T03:10:01.154142Z",
     "start_time": "2023-01-17T03:10:01.139284Z"
    }
   },
   "outputs": [],
   "source": [
    "# 레벨에 맞게 설정\n",
    "def setup(level):\n",
    "    \n",
    "    # 얼마동안 숫자를 보여줄지\n",
    "    global display_time\n",
    "    display_time = 5 - (level // 3)\n",
    "    display_time = max(display_time, 1) # 1초 미만이면 1초로 처리\n",
    "\n",
    "    # 얼마나 많은 숫자를 보여줄 것인가?\n",
    "    number_count = (level // 3) + 5\n",
    "    number_count = min(number_count, 20) # 만약 20 을 초과하면 20 으로 처리\n",
    "\n",
    "    # 실제 화면에 grid 형태로 숫자를 랜덤으로 배치\n",
    "    shuffle_grid(number_count)"
   ]
  },
  {
   "cell_type": "code",
   "execution_count": 4,
   "id": "80cd5837",
   "metadata": {
    "ExecuteTime": {
     "end_time": "2023-01-17T03:10:01.169696Z",
     "start_time": "2023-01-17T03:10:01.154733Z"
    }
   },
   "outputs": [],
   "source": [
    "# 숫자 섞기 (이 프로젝트에서 가장 중요)\n",
    "def shuffle_grid(number_count):\n",
    "    rows = 5\n",
    "    columns = 9\n",
    "\n",
    "    cell_size = 130 # 각 Grid cell 별 가로, 세로 크기\n",
    "    button_size = 110 # Grid cell 내에 실제로 그려질 버튼 크기\n",
    "    screen_left_margin = 55 # 전체 스크린 왼쪽 여백\n",
    "    screen_top_margin = 20 # 전체 스크린 위쪽 여백\n",
    "\n",
    "    # [[0, 0, 0, 0, 0, 0, 0, 5, 0],\n",
    "    #  [0, 0, 0, 0, 0, 4, 0, 0, 0],\n",
    "    #  [0, 0, 1, 0, 0, 0, 2, 0, 0],\n",
    "    #  [0, 0, 0, 0, 3, 0, 0, 0, 0],\n",
    "    #  [0, 0, 0, 0, 0, 0, 0, 0, 0]]\n",
    "    grid = [[0 for col in range(columns)] for row in range(rows)] # 5 x 9\n",
    "\n",
    "    number = 1 # 시작 숫자 1부터 number_count 까지, 만약 5라면 5까지 숫자를 랜덤으로 배치하기\n",
    "    while number <= number_count:\n",
    "        row_idx = randrange(0, rows) # 0, 1, 2, 3, 4 중에서 랜덤으로 뽑기\n",
    "        col_idx = randrange(0, columns) # 0 ~ 8 중에서 랜덤으로 뽑기\n",
    "\n",
    "        if grid[row_idx][col_idx] == 0:\n",
    "            grid[row_idx][col_idx] = number # 숫자 지정\n",
    "            number += 1\n",
    "\n",
    "            # 현재 grid cell 위치 기준으로 x, y 위치를 구함\n",
    "            center_x = screen_left_margin + (col_idx * cell_size) + (cell_size / 2)\n",
    "            center_y = screen_top_margin + (row_idx * cell_size) + (cell_size / 2)\n",
    "\n",
    "            # 숫자 버튼 만들기\n",
    "            button = pygame.Rect(0, 0, button_size, button_size)\n",
    "            button.center = (center_x, center_y)\n",
    "\n",
    "            number_buttons.append(button)\n",
    "\n",
    "    # 배치된 랜덤 숫자 확인\n",
    "    # print(grid)"
   ]
  },
  {
   "cell_type": "code",
   "execution_count": 5,
   "id": "1355f683",
   "metadata": {
    "ExecuteTime": {
     "end_time": "2023-01-17T03:10:01.185187Z",
     "start_time": "2023-01-17T03:10:01.170692Z"
    }
   },
   "outputs": [],
   "source": [
    "# 시작 화면 보여주기\n",
    "def display_start_screen():\n",
    "    pygame.draw.circle(screen, WHITE, start_button.center, 60, 5)\n",
    "    # 흰색으로 동그라미를 그리는데 중심좌표는 start_button 의 중심좌표를 따라가고,\n",
    "    # 반지름은 60, 선 두께는 5\n",
    "\n",
    "    msg = game_font.render(f\"{curr_level}\", True, WHITE)\n",
    "    msg_rect = msg.get_rect(center=start_button.center)\n",
    "    screen.blit(msg, msg_rect)"
   ]
  },
  {
   "cell_type": "code",
   "execution_count": 6,
   "id": "3285ff3a",
   "metadata": {
    "ExecuteTime": {
     "end_time": "2023-01-17T03:10:01.200347Z",
     "start_time": "2023-01-17T03:10:01.185742Z"
    }
   },
   "outputs": [],
   "source": [
    "# 게임 화면 보여주기\n",
    "def display_game_screen():\n",
    "    global hidden\n",
    "\n",
    "    if not hidden:\n",
    "        elapsed_time = (pygame.time.get_ticks() - start_ticks) / 1000 # ms -> sec\n",
    "        if elapsed_time > display_time:\n",
    "            hidden = True\n",
    "\n",
    "    for idx, rect in enumerate(number_buttons, start=1):\n",
    "        if hidden: # 숨김 처리\n",
    "            # 버튼 사각형 그리기\n",
    "            pygame.draw.rect(screen, WHITE, rect)\n",
    "        else:\n",
    "            # 실제 숫자 텍스트\n",
    "            cell_text = game_font.render(str(idx), True, WHITE)\n",
    "            text_rect = cell_text.get_rect(center=rect.center)\n",
    "            screen.blit(cell_text, text_rect)"
   ]
  },
  {
   "cell_type": "code",
   "execution_count": 7,
   "id": "570c228e",
   "metadata": {
    "ExecuteTime": {
     "end_time": "2023-01-17T03:10:01.216362Z",
     "start_time": "2023-01-17T03:10:01.201165Z"
    }
   },
   "outputs": [],
   "source": [
    "# pos 에 해당하는 버튼 확인\n",
    "def check_buttons(pos):\n",
    "    global start, start_ticks\n",
    "\n",
    "    if start: # 게임이 시작했으면?\n",
    "        check_number_buttons(pos)\n",
    "    elif start_button.collidepoint(pos):\n",
    "        start = True\n",
    "        start_ticks = pygame.time.get_ticks() # 타이머 시작 (현재 시간을 저장)\n",
    "\n",
    "def check_number_buttons(pos):\n",
    "    global start, hidden, curr_level\n",
    "\n",
    "    for button in number_buttons:\n",
    "        if button.collidepoint(pos):\n",
    "            if button == number_buttons[0]: # 올바른 숫자 클릭\n",
    "                # print(\"Correct\")  \n",
    "                del number_buttons[0]        \n",
    "                if not hidden:\n",
    "                    hidden = True # 숫자 숨김 처리      \n",
    "            else: # 잘못된 숫자 클릭\n",
    "                game_over()\n",
    "            break\n",
    "\n",
    "    # 모든 숫자를 다 맞혔다면? 레벨을 높여서 다시 시작 화면으로 감\n",
    "    if len(number_buttons) == 0:\n",
    "        start = False\n",
    "        hidden = False\n",
    "        curr_level += 1\n",
    "        setup(curr_level)"
   ]
  },
  {
   "cell_type": "code",
   "execution_count": 8,
   "id": "5e8a0cad",
   "metadata": {
    "ExecuteTime": {
     "end_time": "2023-01-17T03:10:01.231919Z",
     "start_time": "2023-01-17T03:10:01.217222Z"
    }
   },
   "outputs": [],
   "source": [
    "# 게임 종료 처리. 메시지도 보여줌\n",
    "def game_over():\n",
    "    global running\n",
    "    running = False\n",
    "    \n",
    "    msg = game_font.render(f\"Your level is {curr_level}\", True, WHITE)\n",
    "    msg_rect = msg.get_rect(center=(screen_width/2, screen_height/2))\n",
    "\n",
    "    screen.fill(BLACK)\n",
    "    screen.blit(msg, msg_rect)"
   ]
  },
  {
   "cell_type": "code",
   "execution_count": 9,
   "id": "870ec36b",
   "metadata": {
    "ExecuteTime": {
     "end_time": "2023-01-17T03:10:01.692628Z",
     "start_time": "2023-01-17T03:10:01.233565Z"
    }
   },
   "outputs": [],
   "source": [
    "# 초기화\n",
    "pygame.init()\n",
    "pygame.font.init()\n",
    "screen_width = 1280 # 가로 크기\n",
    "screen_height = 720 # 세로 크기\n",
    "screen = pygame.display.set_mode((screen_width, screen_height))\n",
    "pygame.display.set_caption(\"Memory Game\")\n",
    "game_font = pygame.font.SysFont(\"arialrounded\", 100) # 폰트 정의 (Pyinstaller 패키징을 위해 폰트 명시)"
   ]
  },
  {
   "cell_type": "code",
   "execution_count": 10,
   "id": "3da93e25",
   "metadata": {
    "ExecuteTime": {
     "end_time": "2023-01-17T03:10:01.696630Z",
     "start_time": "2023-01-17T03:10:01.693637Z"
    }
   },
   "outputs": [],
   "source": [
    "# 시작 버튼\n",
    "start_button = pygame.Rect(0, 0, 120, 120)\n",
    "start_button.center = (120, screen_height - 120)"
   ]
  },
  {
   "cell_type": "code",
   "execution_count": 11,
   "id": "90c13c3c",
   "metadata": {
    "ExecuteTime": {
     "end_time": "2023-01-17T03:10:01.705156Z",
     "start_time": "2023-01-17T03:10:01.699621Z"
    }
   },
   "outputs": [],
   "source": [
    "# 색깔\n",
    "BLACK = (0, 0, 0) # RGB \n",
    "WHITE = (255, 255, 255)\n",
    "GRAY = (50, 50, 50)\n",
    "\n",
    "number_buttons = [] # 플레이어가 눌러야 하는 버튼들\n",
    "curr_level = 1 # 현재 레벨\n",
    "display_time = None # 숫자를 보여주는 시간\n",
    "start_ticks = None # 시간 계산 (현재 시간 정보를 저장)"
   ]
  },
  {
   "cell_type": "code",
   "execution_count": 12,
   "id": "422c3bc1",
   "metadata": {
    "ExecuteTime": {
     "end_time": "2023-01-17T03:10:01.711139Z",
     "start_time": "2023-01-17T03:10:01.706144Z"
    }
   },
   "outputs": [],
   "source": [
    "# 게임 시작 여부\n",
    "start = False\n",
    "# 숫자 숨김 여부 (사용자가 1을 클릭했거나, 보여주는 시간 초과했을 때)\n",
    "hidden = False"
   ]
  },
  {
   "cell_type": "code",
   "execution_count": 13,
   "id": "063e9efe",
   "metadata": {
    "ExecuteTime": {
     "end_time": "2023-01-17T03:10:01.716582Z",
     "start_time": "2023-01-17T03:10:01.712126Z"
    }
   },
   "outputs": [],
   "source": [
    "# 게임 시작 전에 게임 설정 함수 수행\n",
    "setup(curr_level)"
   ]
  },
  {
   "cell_type": "code",
   "execution_count": null,
   "id": "326d0012",
   "metadata": {
    "ExecuteTime": {
     "start_time": "2023-01-17T03:10:00.871Z"
    }
   },
   "outputs": [],
   "source": [
    "# 게임 루프\n",
    "running = True # 게임이 실행중인가?\n",
    "while running:\n",
    "    click_pos = None\n",
    "\n",
    "    # 이벤트 루프\n",
    "    for event in pygame.event.get(): # 어떤 이벤트가 발생하였는가?\n",
    "        if event.type == pygame.QUIT: # 창이 닫히는 이벤트인가?\n",
    "            running = False # 게임이 더 이상 실행중이 아님\n",
    "        elif event.type == pygame.MOUSEBUTTONUP: # 사용자가 마우스를 클릭했을때\n",
    "            click_pos = pygame.mouse.get_pos()\n",
    "            # print(click_pos)\n",
    "\n",
    "    # 화면 전체를 까맣게 칠함\n",
    "    screen.fill(BLACK)\n",
    "\n",
    "    if start: \n",
    "        display_game_screen() # 게임 화면 표시\n",
    "    else:        \n",
    "        display_start_screen() # 시작 화면 표시\n",
    "\n",
    "    # 사용자가 클릭한 좌표값이 있다면 (어딘가 클릭했다면)\n",
    "    if click_pos:\n",
    "        check_buttons(click_pos)\n",
    "\n",
    "    # 화면 업데이트\n",
    "    pygame.display.update()"
   ]
  },
  {
   "cell_type": "code",
   "execution_count": null,
   "id": "e78530b3",
   "metadata": {
    "ExecuteTime": {
     "start_time": "2023-01-17T03:10:00.873Z"
    }
   },
   "outputs": [],
   "source": [
    "# 5초 정도 보여줌\n",
    "pygame.time.delay(5000)\n",
    "\n",
    "# 게임 종료\n",
    "pygame.quit()"
   ]
  },
  {
   "cell_type": "code",
   "execution_count": null,
   "id": "4dda5f9c",
   "metadata": {},
   "outputs": [],
   "source": []
  }
 ],
 "metadata": {
  "kernelspec": {
   "display_name": "Python 3 (ipykernel)",
   "language": "python",
   "name": "python3"
  },
  "language_info": {
   "codemirror_mode": {
    "name": "ipython",
    "version": 3
   },
   "file_extension": ".py",
   "mimetype": "text/x-python",
   "name": "python",
   "nbconvert_exporter": "python",
   "pygments_lexer": "ipython3",
   "version": "3.9.7"
  },
  "toc": {
   "base_numbering": 1,
   "nav_menu": {},
   "number_sections": true,
   "sideBar": true,
   "skip_h1_title": false,
   "title_cell": "Table of Contents",
   "title_sidebar": "Contents",
   "toc_cell": false,
   "toc_position": {},
   "toc_section_display": true,
   "toc_window_display": false
  }
 },
 "nbformat": 4,
 "nbformat_minor": 5
}
